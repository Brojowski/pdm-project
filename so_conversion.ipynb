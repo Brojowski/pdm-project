{
 "cells": [
  {
   "cell_type": "code",
   "execution_count": 1,
   "metadata": {},
   "outputs": [],
   "source": [
    "import datetime"
   ]
  },
  {
   "cell_type": "code",
   "execution_count": 2,
   "metadata": {},
   "outputs": [],
   "source": [
    "class Vert:\n",
    "    def __init__(self):\n",
    "        self.edges = dict()\n",
    "        self.attrs = dict()\n",
    "        \n",
    "    def __repr__(self):\n",
    "        return 'edges:' + str(self.edges) + ', attrs:' + str(self.attrs)"
   ]
  },
  {
   "cell_type": "code",
   "execution_count": 3,
   "metadata": {},
   "outputs": [],
   "source": [
    "minTime, maxTime = (1235000177, 1244362062)\n",
    "timeRange = maxTime - minTime"
   ]
  },
  {
   "cell_type": "code",
   "execution_count": null,
   "metadata": {},
   "outputs": [],
   "source": []
  },
  {
   "cell_type": "code",
   "execution_count": 98,
   "metadata": {},
   "outputs": [
    {
     "name": "stdout",
     "output_type": "stream",
     "text": [
      "\n",
      "10357\n",
      "11837\n",
      "531\n",
      "\n"
     ]
    }
   ],
   "source": [
    "import csv\n",
    "\n",
    "G = dict()\n",
    "\n",
    "with open('stackoverflow.csv') as so_file:\n",
    "    reader = csv.reader(so_file)\n",
    "    \n",
    "    next(reader)\n",
    "    for row in reader:\n",
    "    \n",
    "        # Asker ID\n",
    "        i = row[2]\n",
    "        # Answerer ID\n",
    "        j = row[3]\n",
    "        # Answer time\n",
    "        at = int(row[11])\n",
    "        # Tags as a list\n",
    "        tags = row[5].split(',')\n",
    "        \n",
    "        if at < minTime:\n",
    "            minTime = at\n",
    "            \n",
    "        if maxTime < at:\n",
    "            maxTime = at\n",
    "        \n",
    "        ignoredUsers = ['NA', '0', '1']\n",
    "        if i in ignoredUsers or j in ignoredUsers:\n",
    "            continue\n",
    "        \n",
    "        if not i in G:\n",
    "            G[i] = Vert()\n",
    "    \n",
    "        if not j in G:\n",
    "            G[j] = Vert()\n",
    "        \n",
    "        if not j in G[i].edges or at > G[i].edges[j]:\n",
    "            G[i].edges[j] = (at - minTime) / timeRange\n",
    "        \n",
    "        if not i in G[j].edges or at > G[j].edges[i]:\n",
    "            G[j].edges[i] = (at - minTime) / timeRange\n",
    "        \n",
    "        for tag in tags:\n",
    "            if not tag in G[i].attrs:\n",
    "                G[i].attrs[tag] = 0\n",
    "        \n",
    "            if not tag in G[j].attrs:\n",
    "                G[j].attrs[tag] = 0\n",
    "            \n",
    "            G[i].attrs[tag] += 1\n",
    "            G[j].attrs[tag] += 1\n",
    "    \n",
    "print()\n",
    "    \n",
    "#usersRemoved = list(filter(lambda p: p[1] <= 3, sorted([(x[0], len(x[1].edges)) for x in G.items()],key=lambda y: y[1], reverse=True)))[2:]\n",
    "usersRemoved = list(filter(lambda p: len(G[p].edges) < 3 or len(G[p].edges) > 300, G.keys()))\n",
    "\n",
    "print(len(usersRemoved))\n",
    "print(len(G))\n",
    "\n",
    "inverseRemoved = list()\n",
    "for rm in usersRemoved:\n",
    "    for irm in G[rm].edges.keys():\n",
    "        inverseRemoved.append( (irm, rm) )\n",
    "    G.pop(rm)\n",
    "    \n",
    "for irm, rm in inverseRemoved:\n",
    "    if irm in G:\n",
    "        if rm in G[irm].edges:\n",
    "            G[irm].edges.pop(rm)\n",
    "            if len(G[irm].edges) <= 0:\n",
    "                G.pop(irm)\n",
    "    \n",
    "print(len(G))\n",
    "    \n",
    "print()    \n",
    "\n",
    "ranges = {\n",
    "    (0, .1): 0,\n",
    "    (.1, .2): 0,\n",
    "    (.2, .3): 0,\n",
    "    (.3, .4): 0,\n",
    "    (.4, .5): 0,\n",
    "    (.4, .5): 0,\n",
    "    (.5, .6): 0,\n",
    "    (.6, .7): 0,\n",
    "    (.7, .8): 0,\n",
    "    (.8, .9): 0,\n",
    "    (.9, 1.1): 0\n",
    "}\n",
    "    \n",
    "for k,v in G.items():\n",
    "    for e in v.edges.values():\n",
    "        for rs, re in ranges.keys():\n",
    "            if rs <= e and e < re:\n",
    "                ranges[(rs, re)] += 1\n",
    "            "
   ]
  },
  {
   "cell_type": "code",
   "execution_count": 99,
   "metadata": {},
   "outputs": [
    {
     "data": {
      "text/plain": [
       "{(0, 0.1): 110,\n",
       " (0.1, 0.2): 124,\n",
       " (0.2, 0.3): 130,\n",
       " (0.3, 0.4): 144,\n",
       " (0.4, 0.5): 124,\n",
       " (0.5, 0.6): 152,\n",
       " (0.6, 0.7): 150,\n",
       " (0.7, 0.8): 142,\n",
       " (0.8, 0.9): 134,\n",
       " (0.9, 1.1): 158}"
      ]
     },
     "execution_count": 99,
     "metadata": {},
     "output_type": "execute_result"
    }
   ],
   "source": [
    "ranges"
   ]
  },
  {
   "cell_type": "code",
   "execution_count": 100,
   "metadata": {},
   "outputs": [
    {
     "data": {
      "text/plain": [
       "[]"
      ]
     },
     "execution_count": 100,
     "metadata": {},
     "output_type": "execute_result"
    }
   ],
   "source": [
    "[]"
   ]
  },
  {
   "cell_type": "code",
   "execution_count": 101,
   "metadata": {},
   "outputs": [
    {
     "data": {
      "text/plain": [
       "(1235000177, 1244362062)"
      ]
     },
     "execution_count": 101,
     "metadata": {},
     "output_type": "execute_result"
    }
   ],
   "source": [
    "minTime, maxTime"
   ]
  },
  {
   "cell_type": "code",
   "execution_count": 102,
   "metadata": {},
   "outputs": [
    {
     "data": {
      "text/plain": [
       "531"
      ]
     },
     "execution_count": 102,
     "metadata": {},
     "output_type": "execute_result"
    }
   ],
   "source": [
    "len(G.items()) # excluding '0' and '1' goes from 26883 to 11837"
   ]
  },
  {
   "cell_type": "code",
   "execution_count": 103,
   "metadata": {},
   "outputs": [],
   "source": [
    "def commonNeighbors(cl, v):\n",
    "    n_v = set(G[v].edges.keys())\n",
    "\n",
    "    return len(cl.intersection(n_v)) / len(cl.union(n_v))"
   ]
  },
  {
   "cell_type": "code",
   "execution_count": 104,
   "metadata": {},
   "outputs": [],
   "source": [
    "def getNextNode(cluster, clNeighbors):\n",
    "    edgeWeightSums = [(e[0], sum(G[e[0]].edges[o] for o in e[1])) for e in [(n, set(cluster).intersection(set(G[n].edges.keys()))) for n in clNeighbors ]]\n",
    "    sortedEdgeWeightSums = sorted(edgeWeightSums, key=lambda e: e[1], reverse=True)\n",
    "    topEdgesByWeight = list(filter(lambda x: x[1] == sortedEdgeWeightSums[0][1], sortedEdgeWeightSums))\n",
    "    return sorted([(t[0], t[1], len(set(G[t[0]].edges.keys()).difference(cluster).intersection(clNeighbors))) for t in topEdgesByWeight], key=lambda e: e[2], reverse=True)[0]"
   ]
  },
  {
   "cell_type": "code",
   "execution_count": null,
   "metadata": {},
   "outputs": [],
   "source": []
  },
  {
   "cell_type": "code",
   "execution_count": 105,
   "metadata": {},
   "outputs": [],
   "source": [
    "log = list()\n",
    "\n",
    "def densityCluster(t_w):\n",
    "    # 5 - 7\n",
    "    nodeExists = dict()\n",
    "    for node, edges_node in G.items():\n",
    "        nodeExists[node] = True\n",
    "    \n",
    "    # 8\n",
    "    clusters = list()\n",
    "    \n",
    "    # 9\n",
    "    nodeDegree = dict()\n",
    "    # 10 - 12\n",
    "    for node, edges_node in G.items():\n",
    "        nodeDegree[node] = len(edges_node.edges)\n",
    "        \n",
    "    \n",
    "    for nId, __n_edges in sorted([(x[0], len(x[1].edges)) for x in G.items()],key=lambda y: y[1], reverse=True):\n",
    "        node = str(nId)\n",
    "        if nodeExists[node]:\n",
    "            c = set()\n",
    "            maxDegree = node\n",
    "            nodeDegree[maxDegree] = -1\n",
    "            nodeExists[maxDegree] = False\n",
    "            neighbors = set(G[maxDegree].edges.keys())\n",
    "            c.add(maxDegree)\n",
    "            \n",
    "            #for neighbor, edge_weight in neighbors:\n",
    "                #print(float(edge_weight) + commonNeighbors(node, neighbor))\n",
    "            \n",
    "            #print(neighbors)\n",
    "            \n",
    "            while len(neighbors) > 0:\n",
    "                neighbor, edge_weight, no_neighbors = getNextNode(c, neighbors)\n",
    "                neighbors.remove(neighbor)\n",
    "                \n",
    "                if not nodeExists[neighbor]:\n",
    "                    continue\n",
    "                \n",
    "                l = (edge_weight, no_neighbors)\n",
    "                log.append(l)\n",
    "                #print(l)\n",
    "                \n",
    "                if (edge_weight + commonNeighbors(c, neighbor)) >= t_w:\n",
    "                    c.add(neighbor)\n",
    "                    nodeExists[neighbor] = False\n",
    "                    nodeDegree[neighbor] = -1\n",
    "                    \n",
    "                    newNeighbors = list(filter(lambda x: nodeExists[x], G[neighbor].edges.keys()))\n",
    "                    neighbors.update( newNeighbors )\n",
    "                                    \n",
    "            #print(neighbors)\n",
    "            \n",
    "            clusters.append(c)\n",
    "            \n",
    "    return clusters\n"
   ]
  },
  {
   "cell_type": "code",
   "execution_count": 115,
   "metadata": {},
   "outputs": [
    {
     "name": "stdout",
     "output_type": "stream",
     "text": [
      "2019-11-26 01:13:37.522256\n",
      "2019-11-26 01:13:37.647781\n"
     ]
    },
    {
     "data": {
      "text/plain": [
       "[42, 16, 8, 6, 5, 5, 4, 4, 4, 3, 3, 3, 3, 3, 3, 3, 2, 2, 2, 2, 2]"
      ]
     },
     "execution_count": 115,
     "metadata": {},
     "output_type": "execute_result"
    }
   ],
   "source": [
    "print(datetime.datetime.now())\n",
    "cs = sorted(densityCluster(1), key=lambda x: len(x), reverse=True)\n",
    "cs = list(filter(lambda q: len(q) > 1, cs))\n",
    "print(datetime.datetime.now())\n",
    "[len(x) for x in cs]"
   ]
  },
  {
   "cell_type": "code",
   "execution_count": 119,
   "metadata": {},
   "outputs": [
    {
     "name": "stdout",
     "output_type": "stream",
     "text": [
      "[('best-practices', 29), ('c#', 28), ('ûnet', 27), ('subjective', 27), ('c++', 20)]\n",
      "[('best-practices', 8), ('subjective', 6), ('java', 6), ('language-agnostic', 6), ('c++', 6)]\n",
      "[('subjective', 5), ('c#', 4), ('c++', 4), ('sqlserver', 3), ('beginner', 3)]\n",
      "[('subjective', 4), ('programming-languages', 4), ('ûnet', 3), ('python', 3), ('c#', 3)]\n",
      "[('aspûnet', 3), ('beginner', 3), ('ûnet', 3), ('best-practices', 2), ('xml', 2)]\n",
      "[('javascript', 3), ('best-practices', 3), ('c#', 3), ('subjective', 3), ('svn', 3)]\n",
      "[('c#', 3), ('language-agnostic', 3), ('unit-testing', 2), ('ûnet', 2), ('job-interview', 2)]\n",
      "[('java', 4), ('best-practices', 3), ('generics', 2), ('void', 2), ('delphi', 2)]\n",
      "[('best-practices', 3), ('sql', 2), ('sqlserver', 2), ('game-development', 2), ('resources', 2)]\n",
      "[('subjective', 3), ('c', 2), ('c++', 2), ('multithreading', 2), ('threads', 2)]\n",
      "[('personal-development', 3), ('subjective', 3), ('java', 3), ('database', 3), ('management', 2)]\n",
      "[('subjective', 3), ('python', 2), ('django', 2), ('tools', 2), ('web-development', 2)]\n",
      "[('subjective', 2), ('latex', 2), ('desktop-publishing', 2), ('typesetting', 2), ('tex', 2)]\n",
      "[('subjective', 3), ('ûnet', 2), ('poll', 2), ('not-a-question', 2), ('fun', 2)]\n",
      "[('objective-c', 3), ('cocoa', 3), ('iphone', 2), ('controller', 2), ('help', 2)]\n",
      "[('programming', 3), ('subjective', 3), ('education', 2), ('fun', 2), ('self-improvement', 2)]\n",
      "[('subjective', 2), ('c#', 2), ('arrays', 2), ('oop', 2), ('javascript', 2)]\n",
      "[('aspûnet-mvc', 2), ('best-practices', 2), ('tips', 2), ('tips-and-tricks', 2), ('samples', 2)]\n",
      "[('subjective', 2), ('smalltalk', 2), ('squeak', 2), ('argumentative', 2), ('assembler', 1)]\n",
      "[('software', 2), ('personal', 2), ('arsenal', 2), ('python', 2), ('php', 1)]\n",
      "[('sql', 2), ('c#', 2), ('database', 2), ('programmer', 2), ('habits', 2)]\n"
     ]
    }
   ],
   "source": [
    "for c in cs:\n",
    "    topics = dict()\n",
    "    \n",
    "    for o in c:\n",
    "        for t in G[o].attrs.keys():\n",
    "            if not t in topics:\n",
    "                topics[t] = 0\n",
    "            topics[t] += 1\n",
    "    \n",
    "    print(sorted(topics.items(), key=lambda t: t[1], reverse=True)[:5])\n",
    "    "
   ]
  },
  {
   "cell_type": "code",
   "execution_count": null,
   "metadata": {},
   "outputs": [],
   "source": []
  },
  {
   "cell_type": "code",
   "execution_count": null,
   "metadata": {},
   "outputs": [],
   "source": []
  },
  {
   "cell_type": "code",
   "execution_count": null,
   "metadata": {},
   "outputs": [],
   "source": []
  },
  {
   "cell_type": "code",
   "execution_count": null,
   "metadata": {},
   "outputs": [],
   "source": []
  },
  {
   "cell_type": "code",
   "execution_count": null,
   "metadata": {},
   "outputs": [],
   "source": []
  },
  {
   "cell_type": "code",
   "execution_count": null,
   "metadata": {},
   "outputs": [],
   "source": []
  },
  {
   "cell_type": "code",
   "execution_count": null,
   "metadata": {},
   "outputs": [],
   "source": []
  }
 ],
 "metadata": {
  "kernelspec": {
   "display_name": "Python 3",
   "language": "python",
   "name": "python3"
  },
  "language_info": {
   "codemirror_mode": {
    "name": "ipython",
    "version": 3
   },
   "file_extension": ".py",
   "mimetype": "text/x-python",
   "name": "python",
   "nbconvert_exporter": "python",
   "pygments_lexer": "ipython3",
   "version": "3.6.8"
  }
 },
 "nbformat": 4,
 "nbformat_minor": 4
}
